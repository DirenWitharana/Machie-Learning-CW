{
 "cells": [
  {
   "cell_type": "markdown",
   "id": "58706c1d",
   "metadata": {},
   "source": [
    "# Import Libraries"
   ]
  },
  {
   "cell_type": "code",
   "execution_count": 1,
   "id": "3e67ba19",
   "metadata": {},
   "outputs": [],
   "source": [
    "import pandas as pd"
   ]
  },
  {
   "cell_type": "code",
   "execution_count": 2,
   "outputs": [
    {
     "data": {
      "text/plain": "['word_freq_make:         continuous.',\n 'word_freq_address:      continuous.',\n 'word_freq_all:          continuous.',\n 'word_freq_3d:           continuous.',\n 'word_freq_our:          continuous.',\n 'word_freq_over:         continuous.',\n 'word_freq_remove:       continuous.',\n 'word_freq_internet:     continuous.',\n 'word_freq_order:        continuous.',\n 'word_freq_mail:         continuous.',\n 'word_freq_receive:      continuous.',\n 'word_freq_will:         continuous.',\n 'word_freq_people:       continuous.',\n 'word_freq_report:       continuous.',\n 'word_freq_addresses:    continuous.',\n 'word_freq_free:         continuous.',\n 'word_freq_business:     continuous.',\n 'word_freq_email:        continuous.',\n 'word_freq_you:          continuous.',\n 'word_freq_credit:       continuous.',\n 'word_freq_your:         continuous.',\n 'word_freq_font:         continuous.',\n 'word_freq_000:          continuous.',\n 'word_freq_money:        continuous.',\n 'word_freq_hp:           continuous.',\n 'word_freq_hpl:          continuous.',\n 'word_freq_george:       continuous.',\n 'word_freq_650:          continuous.',\n 'word_freq_lab:          continuous.',\n 'word_freq_labs:         continuous.',\n 'word_freq_telnet:       continuous.',\n 'word_freq_857:          continuous.',\n 'word_freq_data:         continuous.',\n 'word_freq_415:          continuous.',\n 'word_freq_85:           continuous.',\n 'word_freq_technology:   continuous.',\n 'word_freq_1999:         continuous.',\n 'word_freq_parts:        continuous.',\n 'word_freq_pm:           continuous.',\n 'word_freq_direct:       continuous.',\n 'word_freq_cs:           continuous.',\n 'word_freq_meeting:      continuous.',\n 'word_freq_original:     continuous.',\n 'word_freq_project:      continuous.',\n 'word_freq_re:           continuous.',\n 'word_freq_edu:          continuous.',\n 'word_freq_table:        continuous.',\n 'word_freq_conference:   continuous.',\n 'char_freq_;:            continuous.',\n 'char_freq_(:            continuous.',\n 'char_freq_[:            continuous.',\n 'char_freq_!:            continuous.',\n 'char_freq_$:            continuous.',\n 'char_freq_#:            continuous.',\n 'capital_run_length_average: continuous.',\n 'capital_run_length_longest: continuous.',\n 'capital_run_length_total:   continuous.',\n 'spam_type']"
     },
     "execution_count": 2,
     "metadata": {},
     "output_type": "execute_result"
    }
   ],
   "source": [
    "names = pd.read_csv('spambase.names',skiprows=32,sep=':/s+',engine='python', names=['attr',''])\n",
    "names=names['attr']\n",
    "names=list(names)\n",
    "names.append('spam_type')\n",
    "names"
   ],
   "metadata": {
    "collapsed": false
   }
  },
  {
   "cell_type": "markdown",
   "source": [
    "## Importing Dataset using Pandas Library"
   ],
   "metadata": {
    "collapsed": false
   }
  },
  {
   "cell_type": "code",
   "execution_count": 3,
   "id": "8df30677",
   "metadata": {},
   "outputs": [],
   "source": [
    "df = pd.read_csv('spambase.csv',names=names)"
   ]
  },
  {
   "cell_type": "code",
   "execution_count": 4,
   "id": "8598caa5",
   "metadata": {},
   "outputs": [
    {
     "data": {
      "text/plain": "   word_freq_make:         continuous.  word_freq_address:      continuous.  \\\n0                                 0.00                                 0.64   \n1                                 0.21                                 0.28   \n2                                 0.06                                 0.00   \n3                                 0.00                                 0.00   \n4                                 0.00                                 0.00   \n\n   word_freq_all:          continuous.  word_freq_3d:           continuous.  \\\n0                                 0.64                                  0.0   \n1                                 0.50                                  0.0   \n2                                 0.71                                  0.0   \n3                                 0.00                                  0.0   \n4                                 0.00                                  0.0   \n\n   word_freq_our:          continuous.  word_freq_over:         continuous.  \\\n0                                 0.32                                 0.00   \n1                                 0.14                                 0.28   \n2                                 1.23                                 0.19   \n3                                 0.63                                 0.00   \n4                                 0.63                                 0.00   \n\n   word_freq_remove:       continuous.  word_freq_internet:     continuous.  \\\n0                                 0.00                                 0.00   \n1                                 0.21                                 0.07   \n2                                 0.19                                 0.12   \n3                                 0.31                                 0.63   \n4                                 0.31                                 0.63   \n\n   word_freq_order:        continuous.  word_freq_mail:         continuous.  \\\n0                                 0.00                                 0.00   \n1                                 0.00                                 0.94   \n2                                 0.64                                 0.25   \n3                                 0.31                                 0.63   \n4                                 0.31                                 0.63   \n\n   ...  char_freq_;:            continuous.  \\\n0  ...                                 0.00   \n1  ...                                 0.00   \n2  ...                                 0.01   \n3  ...                                 0.00   \n4  ...                                 0.00   \n\n   char_freq_(:            continuous.  char_freq_[:            continuous.  \\\n0                                0.000                                  0.0   \n1                                0.132                                  0.0   \n2                                0.143                                  0.0   \n3                                0.137                                  0.0   \n4                                0.135                                  0.0   \n\n   char_freq_!:            continuous.  char_freq_$:            continuous.  \\\n0                                0.778                                0.000   \n1                                0.372                                0.180   \n2                                0.276                                0.184   \n3                                0.137                                0.000   \n4                                0.135                                0.000   \n\n   char_freq_#:            continuous.  \\\n0                                0.000   \n1                                0.048   \n2                                0.010   \n3                                0.000   \n4                                0.000   \n\n   capital_run_length_average: continuous.  \\\n0                                    3.756   \n1                                    5.114   \n2                                    9.821   \n3                                    3.537   \n4                                    3.537   \n\n   capital_run_length_longest: continuous.  \\\n0                                       61   \n1                                      101   \n2                                      485   \n3                                       40   \n4                                       40   \n\n   capital_run_length_total:   continuous.  spam_type  \n0                                      278          1  \n1                                     1028          1  \n2                                     2259          1  \n3                                      191          1  \n4                                      191          1  \n\n[5 rows x 58 columns]",
      "text/html": "<div>\n<style scoped>\n    .dataframe tbody tr th:only-of-type {\n        vertical-align: middle;\n    }\n\n    .dataframe tbody tr th {\n        vertical-align: top;\n    }\n\n    .dataframe thead th {\n        text-align: right;\n    }\n</style>\n<table border=\"1\" class=\"dataframe\">\n  <thead>\n    <tr style=\"text-align: right;\">\n      <th></th>\n      <th>word_freq_make:         continuous.</th>\n      <th>word_freq_address:      continuous.</th>\n      <th>word_freq_all:          continuous.</th>\n      <th>word_freq_3d:           continuous.</th>\n      <th>word_freq_our:          continuous.</th>\n      <th>word_freq_over:         continuous.</th>\n      <th>word_freq_remove:       continuous.</th>\n      <th>word_freq_internet:     continuous.</th>\n      <th>word_freq_order:        continuous.</th>\n      <th>word_freq_mail:         continuous.</th>\n      <th>...</th>\n      <th>char_freq_;:            continuous.</th>\n      <th>char_freq_(:            continuous.</th>\n      <th>char_freq_[:            continuous.</th>\n      <th>char_freq_!:            continuous.</th>\n      <th>char_freq_$:            continuous.</th>\n      <th>char_freq_#:            continuous.</th>\n      <th>capital_run_length_average: continuous.</th>\n      <th>capital_run_length_longest: continuous.</th>\n      <th>capital_run_length_total:   continuous.</th>\n      <th>spam_type</th>\n    </tr>\n  </thead>\n  <tbody>\n    <tr>\n      <th>0</th>\n      <td>0.00</td>\n      <td>0.64</td>\n      <td>0.64</td>\n      <td>0.0</td>\n      <td>0.32</td>\n      <td>0.00</td>\n      <td>0.00</td>\n      <td>0.00</td>\n      <td>0.00</td>\n      <td>0.00</td>\n      <td>...</td>\n      <td>0.00</td>\n      <td>0.000</td>\n      <td>0.0</td>\n      <td>0.778</td>\n      <td>0.000</td>\n      <td>0.000</td>\n      <td>3.756</td>\n      <td>61</td>\n      <td>278</td>\n      <td>1</td>\n    </tr>\n    <tr>\n      <th>1</th>\n      <td>0.21</td>\n      <td>0.28</td>\n      <td>0.50</td>\n      <td>0.0</td>\n      <td>0.14</td>\n      <td>0.28</td>\n      <td>0.21</td>\n      <td>0.07</td>\n      <td>0.00</td>\n      <td>0.94</td>\n      <td>...</td>\n      <td>0.00</td>\n      <td>0.132</td>\n      <td>0.0</td>\n      <td>0.372</td>\n      <td>0.180</td>\n      <td>0.048</td>\n      <td>5.114</td>\n      <td>101</td>\n      <td>1028</td>\n      <td>1</td>\n    </tr>\n    <tr>\n      <th>2</th>\n      <td>0.06</td>\n      <td>0.00</td>\n      <td>0.71</td>\n      <td>0.0</td>\n      <td>1.23</td>\n      <td>0.19</td>\n      <td>0.19</td>\n      <td>0.12</td>\n      <td>0.64</td>\n      <td>0.25</td>\n      <td>...</td>\n      <td>0.01</td>\n      <td>0.143</td>\n      <td>0.0</td>\n      <td>0.276</td>\n      <td>0.184</td>\n      <td>0.010</td>\n      <td>9.821</td>\n      <td>485</td>\n      <td>2259</td>\n      <td>1</td>\n    </tr>\n    <tr>\n      <th>3</th>\n      <td>0.00</td>\n      <td>0.00</td>\n      <td>0.00</td>\n      <td>0.0</td>\n      <td>0.63</td>\n      <td>0.00</td>\n      <td>0.31</td>\n      <td>0.63</td>\n      <td>0.31</td>\n      <td>0.63</td>\n      <td>...</td>\n      <td>0.00</td>\n      <td>0.137</td>\n      <td>0.0</td>\n      <td>0.137</td>\n      <td>0.000</td>\n      <td>0.000</td>\n      <td>3.537</td>\n      <td>40</td>\n      <td>191</td>\n      <td>1</td>\n    </tr>\n    <tr>\n      <th>4</th>\n      <td>0.00</td>\n      <td>0.00</td>\n      <td>0.00</td>\n      <td>0.0</td>\n      <td>0.63</td>\n      <td>0.00</td>\n      <td>0.31</td>\n      <td>0.63</td>\n      <td>0.31</td>\n      <td>0.63</td>\n      <td>...</td>\n      <td>0.00</td>\n      <td>0.135</td>\n      <td>0.0</td>\n      <td>0.135</td>\n      <td>0.000</td>\n      <td>0.000</td>\n      <td>3.537</td>\n      <td>40</td>\n      <td>191</td>\n      <td>1</td>\n    </tr>\n  </tbody>\n</table>\n<p>5 rows × 58 columns</p>\n</div>"
     },
     "execution_count": 4,
     "metadata": {},
     "output_type": "execute_result"
    }
   ],
   "source": [
    "df.head()"
   ]
  },
  {
   "cell_type": "markdown",
   "source": [
    "## Setting feature matrix and values to be predicted"
   ],
   "metadata": {
    "collapsed": false
   }
  },
  {
   "cell_type": "code",
   "execution_count": 5,
   "id": "5892c689",
   "metadata": {},
   "outputs": [],
   "source": [
    "X = df.iloc[:, :-1].values\n",
    "y = df.iloc[:,-1].values"
   ]
  },
  {
   "cell_type": "markdown",
   "id": "72de2914",
   "metadata": {},
   "source": [
    "# Cleaning DataSet"
   ]
  },
  {
   "cell_type": "markdown",
   "source": [
    "#### Checking whether there are null values"
   ],
   "metadata": {
    "collapsed": false
   }
  },
  {
   "cell_type": "code",
   "execution_count": 6,
   "id": "58cd89c8",
   "metadata": {},
   "outputs": [
    {
     "data": {
      "text/plain": "word_freq_make:         continuous.        0\nword_freq_address:      continuous.        0\nword_freq_all:          continuous.        0\nword_freq_3d:           continuous.        0\nword_freq_our:          continuous.        0\nword_freq_over:         continuous.        0\nword_freq_remove:       continuous.        0\nword_freq_internet:     continuous.        0\nword_freq_order:        continuous.        0\nword_freq_mail:         continuous.        0\nword_freq_receive:      continuous.        0\nword_freq_will:         continuous.        0\nword_freq_people:       continuous.        0\nword_freq_report:       continuous.        0\nword_freq_addresses:    continuous.        0\nword_freq_free:         continuous.        0\nword_freq_business:     continuous.        0\nword_freq_email:        continuous.        0\nword_freq_you:          continuous.        0\nword_freq_credit:       continuous.        0\nword_freq_your:         continuous.        0\nword_freq_font:         continuous.        0\nword_freq_000:          continuous.        0\nword_freq_money:        continuous.        0\nword_freq_hp:           continuous.        0\nword_freq_hpl:          continuous.        0\nword_freq_george:       continuous.        0\nword_freq_650:          continuous.        0\nword_freq_lab:          continuous.        0\nword_freq_labs:         continuous.        0\nword_freq_telnet:       continuous.        0\nword_freq_857:          continuous.        0\nword_freq_data:         continuous.        0\nword_freq_415:          continuous.        0\nword_freq_85:           continuous.        0\nword_freq_technology:   continuous.        0\nword_freq_1999:         continuous.        0\nword_freq_parts:        continuous.        0\nword_freq_pm:           continuous.        0\nword_freq_direct:       continuous.        0\nword_freq_cs:           continuous.        0\nword_freq_meeting:      continuous.        0\nword_freq_original:     continuous.        0\nword_freq_project:      continuous.        0\nword_freq_re:           continuous.        0\nword_freq_edu:          continuous.        0\nword_freq_table:        continuous.        0\nword_freq_conference:   continuous.        0\nchar_freq_;:            continuous.        0\nchar_freq_(:            continuous.        0\nchar_freq_[:            continuous.        0\nchar_freq_!:            continuous.        0\nchar_freq_$:            continuous.        0\nchar_freq_#:            continuous.        0\ncapital_run_length_average: continuous.    0\ncapital_run_length_longest: continuous.    0\ncapital_run_length_total:   continuous.    0\nspam_type                                  0\ndtype: int64"
     },
     "execution_count": 6,
     "metadata": {},
     "output_type": "execute_result"
    }
   ],
   "source": [
    "df.isnull().sum()"
   ]
  },
  {
   "cell_type": "markdown",
   "source": [
    "#### Checking for number of Duplicates and then dropping them"
   ],
   "metadata": {
    "collapsed": false
   }
  },
  {
   "cell_type": "code",
   "execution_count": 7,
   "outputs": [
    {
     "name": "stdout",
     "output_type": "stream",
     "text": [
      "391\n"
     ]
    }
   ],
   "source": [
    "print(df.duplicated().sum())\n",
    "df.drop_duplicates(inplace=True)"
   ],
   "metadata": {
    "collapsed": false
   }
  },
  {
   "cell_type": "markdown",
   "id": "c83da486",
   "metadata": {},
   "source": [
    "# Doing train_test_spliting"
   ]
  },
  {
   "cell_type": "code",
   "execution_count": 8,
   "id": "5c979f2f",
   "metadata": {},
   "outputs": [],
   "source": [
    "from sklearn.model_selection import train_test_split"
   ]
  },
  {
   "cell_type": "code",
   "execution_count": 9,
   "id": "f9b3e316",
   "metadata": {},
   "outputs": [],
   "source": [
    "X_train, X_test, y_train, y_test = train_test_split(X, y, test_size = 0.20, random_state = 5)"
   ]
  },
  {
   "cell_type": "markdown",
   "id": "b2d6c721",
   "metadata": {},
   "source": [
    "# Training the model"
   ]
  },
  {
   "cell_type": "code",
   "execution_count": 10,
   "id": "526ef52a",
   "metadata": {},
   "outputs": [],
   "source": [
    "from sklearn.tree import DecisionTreeClassifier"
   ]
  },
  {
   "cell_type": "markdown",
   "source": [
    "### Searching most accurate value for max depth hyperparameter"
   ],
   "metadata": {
    "collapsed": false
   }
  },
  {
   "cell_type": "code",
   "execution_count": 11,
   "outputs": [
    {
     "name": "stdout",
     "output_type": "stream",
     "text": [
      "Max depth: 1      Mean Accuracy : 0.7942934782608696\n",
      "Max depth: 2      Mean Accuracy : 0.8646739130434783\n",
      "Max depth: 3      Mean Accuracy : 0.8695652173913043\n",
      "Max depth: 4      Mean Accuracy : 0.8967391304347826\n",
      "Max depth: 5      Mean Accuracy : 0.9008152173913043\n",
      "Max depth: 6      Mean Accuracy : 0.9119565217391304\n",
      "Max depth: 7      Mean Accuracy : 0.9130434782608695\n",
      "Max depth: 8      Mean Accuracy : 0.9119565217391304\n",
      "Max depth: 9      Mean Accuracy : 0.9165760869565218\n",
      "Max depth: 10      Mean Accuracy : 0.9165760869565218\n",
      "Max depth: 11      Mean Accuracy : 0.9209239130434783\n",
      "Max depth: 12      Mean Accuracy : 0.9168478260869565\n",
      "Max depth: 13      Mean Accuracy : 0.9176630434782608\n",
      "Max depth: 14      Mean Accuracy : 0.916304347826087\n",
      "Max depth: 15      Mean Accuracy : 0.913586956521739\n",
      "Max depth: 16      Mean Accuracy : 0.913586956521739\n",
      "Max depth: 17      Mean Accuracy : 0.9127717391304347\n",
      "Max depth: 18      Mean Accuracy : 0.9127717391304347\n",
      "Max depth: 19      Mean Accuracy : 0.9141304347826088\n",
      "Best max depth value:  11\n",
      "Best cross-validation score:  0.9209239130434783\n"
     ]
    }
   ],
   "source": [
    "from sklearn.model_selection import GridSearchCV\n",
    "\n",
    "# Define the values for max depth to be tested on\n",
    "param_grid = {'max_depth': range(1,20)}\n",
    "\n",
    "# Create a decision tree classifier\n",
    "clf = DecisionTreeClassifier(random_state=5,criterion='entropy')\n",
    "\n",
    "# Perform a grid search over the parameter grid using 5-fold cross-validation\n",
    "grid_search = GridSearchCV(clf, param_grid=param_grid, cv=5)\n",
    "grid_search.fit(X_train, y_train)\n",
    "\n",
    "# Print the accuracy scores for each max depth\n",
    "results = grid_search.cv_results_\n",
    "for i in range(len(results['params'])):\n",
    "    print(\"Max depth:\",results['params'][i]['max_depth'],\"    \", \"Mean Accuracy :\", results['mean_test_score'][i])\n",
    "\n",
    "# Print the best max depth value and its corresponding cross-validation score\n",
    "print(\"Best max depth value: \", grid_search.best_params_['max_depth'])\n",
    "print(\"Best cross-validation score: \", grid_search.best_score_)\n"
   ],
   "metadata": {
    "collapsed": false
   }
  },
  {
   "cell_type": "code",
   "execution_count": 27,
   "id": "b2322eef",
   "metadata": {},
   "outputs": [
    {
     "data": {
      "text/plain": "DecisionTreeClassifier(criterion='entropy', max_depth=11, random_state=5)"
     },
     "execution_count": 27,
     "metadata": {},
     "output_type": "execute_result"
    }
   ],
   "source": [
    "clf = DecisionTreeClassifier(random_state=5,criterion='entropy',max_depth=11)\n",
    "clf.fit(X_train,y_train)"
   ]
  },
  {
   "cell_type": "markdown",
   "id": "bc0e31c2",
   "metadata": {},
   "source": [
    "\n",
    "# Checking accuracy of testing dataset"
   ]
  },
  {
   "cell_type": "code",
   "execution_count": 13,
   "id": "3dd48dcc",
   "metadata": {},
   "outputs": [],
   "source": [
    "from sklearn.metrics import accuracy_score"
   ]
  },
  {
   "cell_type": "code",
   "execution_count": 14,
   "id": "53f0ebb6",
   "metadata": {},
   "outputs": [
    {
     "data": {
      "text/plain": "0.9315960912052117"
     },
     "execution_count": 14,
     "metadata": {},
     "output_type": "execute_result"
    }
   ],
   "source": [
    "predictions_test=clf.predict(X_test)\n",
    "\n",
    "accuracy_score(y_test, predictions_test)"
   ]
  },
  {
   "cell_type": "markdown",
   "id": "4b1ee602",
   "metadata": {},
   "source": [
    "# Checking accuracy of training dataset"
   ]
  },
  {
   "cell_type": "code",
   "execution_count": 15,
   "id": "72a39e58",
   "metadata": {},
   "outputs": [
    {
     "data": {
      "text/plain": "0.9627717391304348"
     },
     "execution_count": 15,
     "metadata": {},
     "output_type": "execute_result"
    }
   ],
   "source": [
    "predictions_train = clf.predict(X_train)\n",
    "\n",
    "accuracy_score(y_train,predictions_train)"
   ]
  },
  {
   "cell_type": "markdown",
   "id": "75a47da9",
   "metadata": {},
   "source": [
    "# Evaluating our test dataset"
   ]
  },
  {
   "cell_type": "code",
   "execution_count": 16,
   "id": "feffa583",
   "metadata": {},
   "outputs": [],
   "source": [
    "from sklearn.metrics import classification_report,confusion_matrix"
   ]
  },
  {
   "cell_type": "markdown",
   "source": [
    "#### Confusion Matrix"
   ],
   "metadata": {
    "collapsed": false
   }
  },
  {
   "cell_type": "code",
   "execution_count": 17,
   "id": "5e9ed745",
   "metadata": {},
   "outputs": [
    {
     "name": "stdout",
     "output_type": "stream",
     "text": [
      "Confusion Matrix for Testing Data:\n",
      "[[544  31]\n",
      " [ 32 314]]\n"
     ]
    }
   ],
   "source": [
    "cm = confusion_matrix(y_test, predictions_test)\n",
    "print(\"Confusion Matrix for Testing Data:\")\n",
    "print(cm)"
   ]
  },
  {
   "cell_type": "markdown",
   "source": [
    "#### Accuracy Score"
   ],
   "metadata": {
    "collapsed": false
   }
  },
  {
   "cell_type": "code",
   "execution_count": 26,
   "outputs": [
    {
     "name": "stdout",
     "output_type": "stream",
     "text": [
      "Accuracy : 0.9315960912052117\n"
     ]
    }
   ],
   "source": [
    "from sklearn.metrics import accuracy_score\n",
    "\n",
    "print(\"Accuracy :\",accuracy_score(y_test, predictions_test))"
   ],
   "metadata": {
    "collapsed": false
   }
  },
  {
   "cell_type": "markdown",
   "source": [
    "#### F1 Score"
   ],
   "metadata": {
    "collapsed": false
   }
  },
  {
   "cell_type": "code",
   "execution_count": 23,
   "outputs": [
    {
     "name": "stdout",
     "output_type": "stream",
     "text": [
      "F1 Score : 0.9088277858176556\n"
     ]
    }
   ],
   "source": [
    "from sklearn.metrics import f1_score\n",
    "\n",
    "print(\"F1 Score :\",f1_score(y_test, predictions_test))"
   ],
   "metadata": {
    "collapsed": false
   }
  },
  {
   "cell_type": "markdown",
   "source": [
    "#### Recall Score"
   ],
   "metadata": {
    "collapsed": false
   }
  },
  {
   "cell_type": "code",
   "execution_count": 24,
   "outputs": [
    {
     "name": "stdout",
     "output_type": "stream",
     "text": [
      "Recall Score : 0.9075144508670521\n"
     ]
    }
   ],
   "source": [
    "from sklearn.metrics import recall_score\n",
    "\n",
    "print(\"Recall Score :\",recall_score(y_test, predictions_test))"
   ],
   "metadata": {
    "collapsed": false
   }
  },
  {
   "cell_type": "markdown",
   "source": [
    "#### Precision Score"
   ],
   "metadata": {
    "collapsed": false
   }
  },
  {
   "cell_type": "code",
   "execution_count": 25,
   "outputs": [
    {
     "name": "stdout",
     "output_type": "stream",
     "text": [
      "Precision Score : 0.9101449275362319\n"
     ]
    }
   ],
   "source": [
    "from sklearn.metrics import precision_score\n",
    "\n",
    "print(\"Precision Score :\",precision_score(y_test, predictions_test))"
   ],
   "metadata": {
    "collapsed": false
   }
  },
  {
   "cell_type": "markdown",
   "source": [],
   "metadata": {
    "collapsed": false
   }
  },
  {
   "cell_type": "markdown",
   "source": [
    "#### Classification Report"
   ],
   "metadata": {
    "collapsed": false
   }
  },
  {
   "cell_type": "code",
   "execution_count": 18,
   "outputs": [
    {
     "name": "stdout",
     "output_type": "stream",
     "text": [
      "              precision    recall  f1-score   support\n",
      "\n",
      "           0       0.94      0.95      0.95       575\n",
      "           1       0.91      0.91      0.91       346\n",
      "\n",
      "    accuracy                           0.93       921\n",
      "   macro avg       0.93      0.93      0.93       921\n",
      "weighted avg       0.93      0.93      0.93       921\n",
      "\n"
     ]
    }
   ],
   "source": [
    "print(classification_report(y_test,predictions_test))"
   ],
   "metadata": {
    "collapsed": false
   }
  },
  {
   "cell_type": "markdown",
   "id": "572aa83d",
   "metadata": {},
   "source": [
    "# Evaluating our training dataset"
   ]
  },
  {
   "cell_type": "markdown",
   "source": [
    "#### Confusion Matrix"
   ],
   "metadata": {
    "collapsed": false
   }
  },
  {
   "cell_type": "code",
   "execution_count": 19,
   "id": "e6e815ec",
   "metadata": {},
   "outputs": [
    {
     "name": "stdout",
     "output_type": "stream",
     "text": [
      "Confusion Matrix for Training Data:\n",
      "[[2163   50]\n",
      " [  87 1380]]\n"
     ]
    }
   ],
   "source": [
    "cm_train = confusion_matrix(y_train, predictions_train)\n",
    "print(\"Confusion Matrix for Training Data:\")\n",
    "print(cm_train)"
   ]
  },
  {
   "cell_type": "markdown",
   "source": [
    "#### Accuracy"
   ],
   "metadata": {
    "collapsed": false
   }
  },
  {
   "cell_type": "code",
   "execution_count": 20,
   "outputs": [
    {
     "data": {
      "text/plain": "0.9627717391304348"
     },
     "execution_count": 20,
     "metadata": {},
     "output_type": "execute_result"
    }
   ],
   "source": [
    "accuracy = accuracy_score(y_train, predictions_train)\n",
    "accuracy"
   ],
   "metadata": {
    "collapsed": false
   }
  },
  {
   "cell_type": "markdown",
   "source": [
    "#### Classification Report"
   ],
   "metadata": {
    "collapsed": false
   }
  },
  {
   "cell_type": "code",
   "execution_count": 21,
   "outputs": [
    {
     "name": "stdout",
     "output_type": "stream",
     "text": [
      "              precision    recall  f1-score   support\n",
      "\n",
      "           0       0.96      0.98      0.97      2213\n",
      "           1       0.97      0.94      0.95      1467\n",
      "\n",
      "    accuracy                           0.96      3680\n",
      "   macro avg       0.96      0.96      0.96      3680\n",
      "weighted avg       0.96      0.96      0.96      3680\n",
      "\n"
     ]
    }
   ],
   "source": [
    "print(classification_report(y_train,predictions_train))"
   ],
   "metadata": {
    "collapsed": false
   }
  }
 ],
 "metadata": {
  "kernelspec": {
   "display_name": "Python 3",
   "language": "python",
   "name": "python3"
  },
  "language_info": {
   "codemirror_mode": {
    "name": "ipython",
    "version": 3
   },
   "file_extension": ".py",
   "mimetype": "text/x-python",
   "name": "python",
   "nbconvert_exporter": "python",
   "pygments_lexer": "ipython3",
   "version": "3.8.8"
  }
 },
 "nbformat": 4,
 "nbformat_minor": 5
}
