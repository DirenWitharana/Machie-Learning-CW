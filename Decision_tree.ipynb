{
 "cells": [
  {
   "cell_type": "markdown",
   "id": "58706c1d",
   "metadata": {},
   "source": [
    "# Import Libraries"
   ]
  },
  {
   "cell_type": "code",
   "execution_count": 50,
   "id": "3e67ba19",
   "metadata": {},
   "outputs": [],
   "source": [
    "import pandas as pd"
   ]
  },
  {
   "cell_type": "code",
   "execution_count": 54,
   "outputs": [
    {
     "data": {
      "text/plain": "['word_freq_make:         continuous.',\n 'word_freq_address:      continuous.',\n 'word_freq_all:          continuous.',\n 'word_freq_3d:           continuous.',\n 'word_freq_our:          continuous.',\n 'word_freq_over:         continuous.',\n 'word_freq_remove:       continuous.',\n 'word_freq_internet:     continuous.',\n 'word_freq_order:        continuous.',\n 'word_freq_mail:         continuous.',\n 'word_freq_receive:      continuous.',\n 'word_freq_will:         continuous.',\n 'word_freq_people:       continuous.',\n 'word_freq_report:       continuous.',\n 'word_freq_addresses:    continuous.',\n 'word_freq_free:         continuous.',\n 'word_freq_business:     continuous.',\n 'word_freq_email:        continuous.',\n 'word_freq_you:          continuous.',\n 'word_freq_credit:       continuous.',\n 'word_freq_your:         continuous.',\n 'word_freq_font:         continuous.',\n 'word_freq_000:          continuous.',\n 'word_freq_money:        continuous.',\n 'word_freq_hp:           continuous.',\n 'word_freq_hpl:          continuous.',\n 'word_freq_george:       continuous.',\n 'word_freq_650:          continuous.',\n 'word_freq_lab:          continuous.',\n 'word_freq_labs:         continuous.',\n 'word_freq_telnet:       continuous.',\n 'word_freq_857:          continuous.',\n 'word_freq_data:         continuous.',\n 'word_freq_415:          continuous.',\n 'word_freq_85:           continuous.',\n 'word_freq_technology:   continuous.',\n 'word_freq_1999:         continuous.',\n 'word_freq_parts:        continuous.',\n 'word_freq_pm:           continuous.',\n 'word_freq_direct:       continuous.',\n 'word_freq_cs:           continuous.',\n 'word_freq_meeting:      continuous.',\n 'word_freq_original:     continuous.',\n 'word_freq_project:      continuous.',\n 'word_freq_re:           continuous.',\n 'word_freq_edu:          continuous.',\n 'word_freq_table:        continuous.',\n 'word_freq_conference:   continuous.',\n 'char_freq_;:            continuous.',\n 'char_freq_(:            continuous.',\n 'char_freq_[:            continuous.',\n 'char_freq_!:            continuous.',\n 'char_freq_$:            continuous.',\n 'char_freq_#:            continuous.',\n 'capital_run_length_average: continuous.',\n 'capital_run_length_longest: continuous.',\n 'capital_run_length_total:   continuous.',\n 'spam_type']"
     },
     "execution_count": 54,
     "metadata": {},
     "output_type": "execute_result"
    }
   ],
   "source": [
    "names = pd.read_csv('spambase.names',skiprows=32,sep=':/s+',engine='python', names=['attr',''])\n",
    "names=names['attr']\n",
    "names=list(names)\n",
    "names.append('spam_type')\n",
    "names"
   ],
   "metadata": {
    "collapsed": false
   }
  },
  {
   "cell_type": "markdown",
   "source": [
    "## Importing Dataset using Pandas Library"
   ],
   "metadata": {
    "collapsed": false
   }
  },
  {
   "cell_type": "code",
   "execution_count": 55,
   "id": "8df30677",
   "metadata": {},
   "outputs": [],
   "source": [
    "df = pd.read_csv('spambase.csv',names=names)"
   ]
  },
  {
   "cell_type": "code",
   "execution_count": 56,
   "id": "8598caa5",
   "metadata": {},
   "outputs": [
    {
     "data": {
      "text/plain": "   word_freq_make:         continuous.  word_freq_address:      continuous.  \\\n0                                 0.00                                 0.64   \n1                                 0.21                                 0.28   \n2                                 0.06                                 0.00   \n3                                 0.00                                 0.00   \n4                                 0.00                                 0.00   \n\n   word_freq_all:          continuous.  word_freq_3d:           continuous.  \\\n0                                 0.64                                  0.0   \n1                                 0.50                                  0.0   \n2                                 0.71                                  0.0   \n3                                 0.00                                  0.0   \n4                                 0.00                                  0.0   \n\n   word_freq_our:          continuous.  word_freq_over:         continuous.  \\\n0                                 0.32                                 0.00   \n1                                 0.14                                 0.28   \n2                                 1.23                                 0.19   \n3                                 0.63                                 0.00   \n4                                 0.63                                 0.00   \n\n   word_freq_remove:       continuous.  word_freq_internet:     continuous.  \\\n0                                 0.00                                 0.00   \n1                                 0.21                                 0.07   \n2                                 0.19                                 0.12   \n3                                 0.31                                 0.63   \n4                                 0.31                                 0.63   \n\n   word_freq_order:        continuous.  word_freq_mail:         continuous.  \\\n0                                 0.00                                 0.00   \n1                                 0.00                                 0.94   \n2                                 0.64                                 0.25   \n3                                 0.31                                 0.63   \n4                                 0.31                                 0.63   \n\n   ...  char_freq_;:            continuous.  \\\n0  ...                                 0.00   \n1  ...                                 0.00   \n2  ...                                 0.01   \n3  ...                                 0.00   \n4  ...                                 0.00   \n\n   char_freq_(:            continuous.  char_freq_[:            continuous.  \\\n0                                0.000                                  0.0   \n1                                0.132                                  0.0   \n2                                0.143                                  0.0   \n3                                0.137                                  0.0   \n4                                0.135                                  0.0   \n\n   char_freq_!:            continuous.  char_freq_$:            continuous.  \\\n0                                0.778                                0.000   \n1                                0.372                                0.180   \n2                                0.276                                0.184   \n3                                0.137                                0.000   \n4                                0.135                                0.000   \n\n   char_freq_#:            continuous.  \\\n0                                0.000   \n1                                0.048   \n2                                0.010   \n3                                0.000   \n4                                0.000   \n\n   capital_run_length_average: continuous.  \\\n0                                    3.756   \n1                                    5.114   \n2                                    9.821   \n3                                    3.537   \n4                                    3.537   \n\n   capital_run_length_longest: continuous.  \\\n0                                       61   \n1                                      101   \n2                                      485   \n3                                       40   \n4                                       40   \n\n   capital_run_length_total:   continuous.  spam_type  \n0                                      278          1  \n1                                     1028          1  \n2                                     2259          1  \n3                                      191          1  \n4                                      191          1  \n\n[5 rows x 58 columns]",
      "text/html": "<div>\n<style scoped>\n    .dataframe tbody tr th:only-of-type {\n        vertical-align: middle;\n    }\n\n    .dataframe tbody tr th {\n        vertical-align: top;\n    }\n\n    .dataframe thead th {\n        text-align: right;\n    }\n</style>\n<table border=\"1\" class=\"dataframe\">\n  <thead>\n    <tr style=\"text-align: right;\">\n      <th></th>\n      <th>word_freq_make:         continuous.</th>\n      <th>word_freq_address:      continuous.</th>\n      <th>word_freq_all:          continuous.</th>\n      <th>word_freq_3d:           continuous.</th>\n      <th>word_freq_our:          continuous.</th>\n      <th>word_freq_over:         continuous.</th>\n      <th>word_freq_remove:       continuous.</th>\n      <th>word_freq_internet:     continuous.</th>\n      <th>word_freq_order:        continuous.</th>\n      <th>word_freq_mail:         continuous.</th>\n      <th>...</th>\n      <th>char_freq_;:            continuous.</th>\n      <th>char_freq_(:            continuous.</th>\n      <th>char_freq_[:            continuous.</th>\n      <th>char_freq_!:            continuous.</th>\n      <th>char_freq_$:            continuous.</th>\n      <th>char_freq_#:            continuous.</th>\n      <th>capital_run_length_average: continuous.</th>\n      <th>capital_run_length_longest: continuous.</th>\n      <th>capital_run_length_total:   continuous.</th>\n      <th>spam_type</th>\n    </tr>\n  </thead>\n  <tbody>\n    <tr>\n      <th>0</th>\n      <td>0.00</td>\n      <td>0.64</td>\n      <td>0.64</td>\n      <td>0.0</td>\n      <td>0.32</td>\n      <td>0.00</td>\n      <td>0.00</td>\n      <td>0.00</td>\n      <td>0.00</td>\n      <td>0.00</td>\n      <td>...</td>\n      <td>0.00</td>\n      <td>0.000</td>\n      <td>0.0</td>\n      <td>0.778</td>\n      <td>0.000</td>\n      <td>0.000</td>\n      <td>3.756</td>\n      <td>61</td>\n      <td>278</td>\n      <td>1</td>\n    </tr>\n    <tr>\n      <th>1</th>\n      <td>0.21</td>\n      <td>0.28</td>\n      <td>0.50</td>\n      <td>0.0</td>\n      <td>0.14</td>\n      <td>0.28</td>\n      <td>0.21</td>\n      <td>0.07</td>\n      <td>0.00</td>\n      <td>0.94</td>\n      <td>...</td>\n      <td>0.00</td>\n      <td>0.132</td>\n      <td>0.0</td>\n      <td>0.372</td>\n      <td>0.180</td>\n      <td>0.048</td>\n      <td>5.114</td>\n      <td>101</td>\n      <td>1028</td>\n      <td>1</td>\n    </tr>\n    <tr>\n      <th>2</th>\n      <td>0.06</td>\n      <td>0.00</td>\n      <td>0.71</td>\n      <td>0.0</td>\n      <td>1.23</td>\n      <td>0.19</td>\n      <td>0.19</td>\n      <td>0.12</td>\n      <td>0.64</td>\n      <td>0.25</td>\n      <td>...</td>\n      <td>0.01</td>\n      <td>0.143</td>\n      <td>0.0</td>\n      <td>0.276</td>\n      <td>0.184</td>\n      <td>0.010</td>\n      <td>9.821</td>\n      <td>485</td>\n      <td>2259</td>\n      <td>1</td>\n    </tr>\n    <tr>\n      <th>3</th>\n      <td>0.00</td>\n      <td>0.00</td>\n      <td>0.00</td>\n      <td>0.0</td>\n      <td>0.63</td>\n      <td>0.00</td>\n      <td>0.31</td>\n      <td>0.63</td>\n      <td>0.31</td>\n      <td>0.63</td>\n      <td>...</td>\n      <td>0.00</td>\n      <td>0.137</td>\n      <td>0.0</td>\n      <td>0.137</td>\n      <td>0.000</td>\n      <td>0.000</td>\n      <td>3.537</td>\n      <td>40</td>\n      <td>191</td>\n      <td>1</td>\n    </tr>\n    <tr>\n      <th>4</th>\n      <td>0.00</td>\n      <td>0.00</td>\n      <td>0.00</td>\n      <td>0.0</td>\n      <td>0.63</td>\n      <td>0.00</td>\n      <td>0.31</td>\n      <td>0.63</td>\n      <td>0.31</td>\n      <td>0.63</td>\n      <td>...</td>\n      <td>0.00</td>\n      <td>0.135</td>\n      <td>0.0</td>\n      <td>0.135</td>\n      <td>0.000</td>\n      <td>0.000</td>\n      <td>3.537</td>\n      <td>40</td>\n      <td>191</td>\n      <td>1</td>\n    </tr>\n  </tbody>\n</table>\n<p>5 rows × 58 columns</p>\n</div>"
     },
     "execution_count": 56,
     "metadata": {},
     "output_type": "execute_result"
    }
   ],
   "source": [
    "df.head()"
   ]
  },
  {
   "cell_type": "markdown",
   "source": [
    "## Setting feature matrix and values to be predicted"
   ],
   "metadata": {
    "collapsed": false
   }
  },
  {
   "cell_type": "code",
   "execution_count": 4,
   "id": "5892c689",
   "metadata": {},
   "outputs": [],
   "source": [
    "X = df.iloc[:, :-1].values\n",
    "y = df.iloc[:,-1].values"
   ]
  },
  {
   "cell_type": "markdown",
   "id": "72de2914",
   "metadata": {},
   "source": [
    "# Cleaning DataSet"
   ]
  },
  {
   "cell_type": "markdown",
   "source": [
    "#### Checking whether there are null values"
   ],
   "metadata": {
    "collapsed": false
   }
  },
  {
   "cell_type": "code",
   "execution_count": 5,
   "id": "58cd89c8",
   "metadata": {},
   "outputs": [
    {
     "data": {
      "text/plain": "0         0\n0.64      0\n0.64.1    0\n0.1       0\n0.32      0\n0.2       0\n0.3       0\n0.4       0\n0.5       0\n0.6       0\n0.7       0\n0.64.2    0\n0.8       0\n0.9       0\n0.10      0\n0.32.1    0\n0.11      0\n1.29      0\n1.93      0\n0.12      0\n0.96      0\n0.13      0\n0.14      0\n0.15      0\n0.16      0\n0.17      0\n0.18      0\n0.19      0\n0.20      0\n0.21      0\n0.22      0\n0.23      0\n0.24      0\n0.25      0\n0.26      0\n0.27      0\n0.28      0\n0.29      0\n0.30      0\n0.31      0\n0.33      0\n0.34      0\n0.35      0\n0.36      0\n0.37      0\n0.38      0\n0.39      0\n0.40      0\n0.41      0\n0.42      0\n0.43      0\n0.778     0\n0.44      0\n0.45      0\n3.756     0\n61        0\n278       0\n1         0\ndtype: int64"
     },
     "execution_count": 5,
     "metadata": {},
     "output_type": "execute_result"
    }
   ],
   "source": [
    "df.isnull().sum()"
   ]
  },
  {
   "cell_type": "markdown",
   "source": [
    "#### Checking for number of Duplicates and then dropping them"
   ],
   "metadata": {
    "collapsed": false
   }
  },
  {
   "cell_type": "code",
   "execution_count": 6,
   "outputs": [
    {
     "name": "stdout",
     "output_type": "stream",
     "text": [
      "391\n"
     ]
    }
   ],
   "source": [
    "print(df.duplicated().sum())\n",
    "df.drop_duplicates(inplace=True)"
   ],
   "metadata": {
    "collapsed": false
   }
  },
  {
   "cell_type": "markdown",
   "id": "c83da486",
   "metadata": {},
   "source": [
    "# Doing train_test_spliting"
   ]
  },
  {
   "cell_type": "code",
   "execution_count": 7,
   "id": "5c979f2f",
   "metadata": {},
   "outputs": [],
   "source": [
    "from sklearn.model_selection import train_test_split"
   ]
  },
  {
   "cell_type": "code",
   "execution_count": 67,
   "id": "f9b3e316",
   "metadata": {},
   "outputs": [],
   "source": [
    "X_train, X_test, y_train, y_test = train_test_split(X, y, test_size = 0.20, random_state = 5)"
   ]
  },
  {
   "cell_type": "markdown",
   "id": "b2d6c721",
   "metadata": {},
   "source": [
    "# Training the model"
   ]
  },
  {
   "cell_type": "code",
   "execution_count": 9,
   "id": "526ef52a",
   "metadata": {},
   "outputs": [],
   "source": [
    "from sklearn.tree import DecisionTreeClassifier"
   ]
  },
  {
   "cell_type": "markdown",
   "source": [
    "### Searching most accurate value for max depth hyperparameter"
   ],
   "metadata": {
    "collapsed": false
   }
  },
  {
   "cell_type": "code",
   "execution_count": 126,
   "outputs": [
    {
     "name": "stdout",
     "output_type": "stream",
     "text": [
      "Max depth: 1      Mean Accuracy : 0.7934782608695652\n",
      "Max depth: 2      Mean Accuracy : 0.8684782608695653\n",
      "Max depth: 3      Mean Accuracy : 0.8695652173913043\n",
      "Max depth: 4      Mean Accuracy : 0.9002717391304348\n",
      "Max depth: 5      Mean Accuracy : 0.9111413043478261\n",
      "Max depth: 6      Mean Accuracy : 0.9059782608695652\n",
      "Max depth: 7      Mean Accuracy : 0.9160326086956522\n",
      "Max depth: 8      Mean Accuracy : 0.9149456521739129\n",
      "Max depth: 9      Mean Accuracy : 0.9176630434782608\n",
      "Max depth: 10      Mean Accuracy : 0.9222826086956522\n",
      "Max depth: 11      Mean Accuracy : 0.9190217391304347\n",
      "Max depth: 12      Mean Accuracy : 0.9168478260869566\n",
      "Max depth: 13      Mean Accuracy : 0.9152173913043479\n",
      "Max depth: 14      Mean Accuracy : 0.9184782608695652\n",
      "Max depth: 15      Mean Accuracy : 0.9195652173913043\n",
      "Max depth: 16      Mean Accuracy : 0.9176630434782609\n",
      "Max depth: 17      Mean Accuracy : 0.9149456521739131\n",
      "Max depth: 18      Mean Accuracy : 0.9171195652173912\n",
      "Max depth: 19      Mean Accuracy : 0.9190217391304347\n",
      "Best max depth value:  10\n",
      "Best cross-validation score:  0.9222826086956522\n"
     ]
    }
   ],
   "source": [
    "from sklearn.model_selection import GridSearchCV\n",
    "\n",
    "# Define the values for max depth to be tested on\n",
    "param_grid = {'max_depth': range(1,20)}\n",
    "\n",
    "# Create a decision tree classifier\n",
    "clf = DecisionTreeClassifier(random_state=5,criterion='entropy')\n",
    "\n",
    "# Perform a grid search over the parameter grid using 5-fold cross-validation\n",
    "grid_search = GridSearchCV(clf, param_grid=param_grid, cv=5)\n",
    "grid_search.fit(X_train, y_train)\n",
    "\n",
    "# Print the accuracy scores for each max depth\n",
    "results = grid_search.cv_results_\n",
    "for i in range(len(results['params'])):\n",
    "    print(\"Max depth:\",results['params'][i]['max_depth'],\"    \", \"Mean Accuracy :\", results['mean_test_score'][i])\n",
    "\n",
    "# Print the best max depth value and its corresponding cross-validation score\n",
    "print(\"Best max depth value: \", grid_search.best_params_['max_depth'])\n",
    "print(\"Best cross-validation score: \", grid_search.best_score_)\n"
   ],
   "metadata": {
    "collapsed": false
   }
  },
  {
   "cell_type": "code",
   "execution_count": 128,
   "id": "b2322eef",
   "metadata": {},
   "outputs": [
    {
     "data": {
      "text/plain": "DecisionTreeClassifier(criterion='entropy', max_depth=10, random_state=5)"
     },
     "execution_count": 128,
     "metadata": {},
     "output_type": "execute_result"
    }
   ],
   "source": [
    "clf = DecisionTreeClassifier(random_state=5,criterion='entropy',max_depth=10)\n",
    "clf.fit(X_train,y_train)"
   ]
  },
  {
   "cell_type": "markdown",
   "id": "bc0e31c2",
   "metadata": {},
   "source": [
    "\n",
    "# Checking accuracy of testing dataset"
   ]
  },
  {
   "cell_type": "code",
   "execution_count": 129,
   "id": "3dd48dcc",
   "metadata": {},
   "outputs": [],
   "source": [
    "from sklearn.metrics import accuracy_score"
   ]
  },
  {
   "cell_type": "code",
   "execution_count": 130,
   "id": "53f0ebb6",
   "metadata": {},
   "outputs": [
    {
     "data": {
      "text/plain": "0.9206521739130434"
     },
     "execution_count": 130,
     "metadata": {},
     "output_type": "execute_result"
    }
   ],
   "source": [
    "predictions_test=clf.predict(X_test)\n",
    "\n",
    "accuracy_score(y_test, predictions_test)"
   ]
  },
  {
   "cell_type": "markdown",
   "id": "4b1ee602",
   "metadata": {},
   "source": [
    "# Checking accuracy of training dataset"
   ]
  },
  {
   "cell_type": "code",
   "execution_count": 79,
   "id": "72a39e58",
   "metadata": {},
   "outputs": [
    {
     "data": {
      "text/plain": "0.9586956521739131"
     },
     "execution_count": 79,
     "metadata": {},
     "output_type": "execute_result"
    }
   ],
   "source": [
    "predictions_train = clf.predict(X_train)\n",
    "\n",
    "accuracy_score(y_train,predictions_train)"
   ]
  },
  {
   "cell_type": "markdown",
   "id": "75a47da9",
   "metadata": {},
   "source": [
    "# Evaluating our test dataset"
   ]
  },
  {
   "cell_type": "code",
   "execution_count": 61,
   "id": "feffa583",
   "metadata": {},
   "outputs": [],
   "source": [
    "from sklearn.metrics import classification_report,confusion_matrix"
   ]
  },
  {
   "cell_type": "markdown",
   "source": [
    "#### Classification Report"
   ],
   "metadata": {
    "collapsed": false
   }
  },
  {
   "cell_type": "code",
   "execution_count": 62,
   "id": "5e9ed745",
   "metadata": {},
   "outputs": [
    {
     "name": "stdout",
     "output_type": "stream",
     "text": [
      "              precision    recall  f1-score   support\n",
      "\n",
      "           0       0.88      0.96      0.92       557\n",
      "           1       0.93      0.81      0.86       363\n",
      "\n",
      "    accuracy                           0.90       920\n",
      "   macro avg       0.91      0.88      0.89       920\n",
      "weighted avg       0.90      0.90      0.90       920\n",
      "\n"
     ]
    }
   ],
   "source": [
    "print(classification_report(y_test,predictions_test))"
   ]
  },
  {
   "cell_type": "markdown",
   "source": [
    "#### Confusion Matrix"
   ],
   "metadata": {
    "collapsed": false
   }
  },
  {
   "cell_type": "code",
   "execution_count": 80,
   "outputs": [
    {
     "name": "stdout",
     "output_type": "stream",
     "text": [
      "Confusion Matrix for Testing Data:\n",
      "[[531  26]\n",
      " [ 47 316]]\n"
     ]
    }
   ],
   "source": [
    "cm = confusion_matrix(y_test, predictions_test)\n",
    "print(\"Confusion Matrix for Testing Data:\")\n",
    "print(cm)"
   ],
   "metadata": {
    "collapsed": false
   }
  },
  {
   "cell_type": "markdown",
   "id": "572aa83d",
   "metadata": {},
   "source": [
    "# Evaluating our training dataset"
   ]
  },
  {
   "cell_type": "markdown",
   "source": [
    "#### Confusion Matrix"
   ],
   "metadata": {
    "collapsed": false
   }
  },
  {
   "cell_type": "code",
   "execution_count": 132,
   "id": "e6e815ec",
   "metadata": {},
   "outputs": [
    {
     "name": "stdout",
     "output_type": "stream",
     "text": [
      "Confusion Matrix for Training Data:\n",
      "[[2192   39]\n",
      " [ 113 1336]]\n"
     ]
    }
   ],
   "source": [
    "cm_train = confusion_matrix(y_train, predictions_train)\n",
    "print(\"Confusion Matrix for Training Data:\")\n",
    "print(cm_train)"
   ]
  },
  {
   "cell_type": "markdown",
   "source": [
    "#### Accuracy"
   ],
   "metadata": {
    "collapsed": false
   }
  },
  {
   "cell_type": "code",
   "execution_count": 135,
   "outputs": [
    {
     "data": {
      "text/plain": "0.9586956521739131"
     },
     "execution_count": 135,
     "metadata": {},
     "output_type": "execute_result"
    }
   ],
   "source": [
    "accuracy = accuracy_score(y_train, predictions_train)\n",
    "accuracy"
   ],
   "metadata": {
    "collapsed": false
   }
  },
  {
   "cell_type": "markdown",
   "source": [
    "#### Classification Report"
   ],
   "metadata": {
    "collapsed": false
   }
  },
  {
   "cell_type": "code",
   "execution_count": 133,
   "outputs": [
    {
     "name": "stdout",
     "output_type": "stream",
     "text": [
      "              precision    recall  f1-score   support\n",
      "\n",
      "           0       0.95      0.98      0.97      2231\n",
      "           1       0.97      0.92      0.95      1449\n",
      "\n",
      "    accuracy                           0.96      3680\n",
      "   macro avg       0.96      0.95      0.96      3680\n",
      "weighted avg       0.96      0.96      0.96      3680\n",
      "\n"
     ]
    }
   ],
   "source": [
    "print(classification_report(y_train,predictions_train))"
   ],
   "metadata": {
    "collapsed": false
   }
  },
  {
   "cell_type": "code",
   "execution_count": null,
   "outputs": [],
   "source": [],
   "metadata": {
    "collapsed": false
   }
  }
 ],
 "metadata": {
  "kernelspec": {
   "display_name": "Python 3",
   "language": "python",
   "name": "python3"
  },
  "language_info": {
   "codemirror_mode": {
    "name": "ipython",
    "version": 3
   },
   "file_extension": ".py",
   "mimetype": "text/x-python",
   "name": "python",
   "nbconvert_exporter": "python",
   "pygments_lexer": "ipython3",
   "version": "3.8.8"
  }
 },
 "nbformat": 4,
 "nbformat_minor": 5
}
